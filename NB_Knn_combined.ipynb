{
 "cells": [
  {
   "cell_type": "code",
   "execution_count": 14,
   "metadata": {},
   "outputs": [],
   "source": [
    "#get dependencies\n",
    "import seaborn as sns\n",
    "import time\n",
    "from itertools import combinations \n",
    "import matplotlib.pyplot as plt\n",
    "%matplotlib inline \n",
    "from sklearn.naive_bayes import GaussianNB\n",
    "from sklearn.linear_model import LogisticRegression \n",
    "from sklearn.metrics import roc_curve, auc\n",
    "import pandas as pd \n",
    "import numpy as np\n",
    "from sklearn import preprocessing\n",
    "from sklearn.preprocessing import OneHotEncoder\n",
    "from sklearn.naive_bayes import MultinomialNB\n",
    "import os\n",
    "from numpy import array\n",
    "from scipy.sparse import csr_matrix\n",
    "from sklearn.model_selection import train_test_split\n",
    "from sklearn.linear_model import LinearRegression\n",
    "from sklearn import metrics \n",
    "from sklearn.model_selection import KFold\n",
    "#load the dataframe\n",
    "all_state = pd.read_csv(\"allstate_sample.csv\")\n",
    "import random\n",
    "from sklearn.preprocessing import OneHotEncoder\n",
    "from sklearn.preprocessing import StandardScaler  \n",
    "from sklearn.neighbors import KNeighborsRegressor\n",
    "from sklearn.neighbors import KNeighborsClassifier  \n",
    "from sklearn.metrics import accuracy_score"
   ]
  },
  {
   "cell_type": "code",
   "execution_count": 2,
   "metadata": {
    "scrolled": true
   },
   "outputs": [
    {
     "name": "stdout",
     "output_type": "stream",
     "text": [
      "(10357, 133)\n"
     ]
    },
    {
     "data": {
      "image/png": "[encoded data removed]",
      "text/plain": [
       "<Figure size 432x288 with 1 Axes>"
      ]
     },
     "metadata": {
      "needs_background": "light"
     },
     "output_type": "display_data"
    },
    {
     "data": {
      "text/html": [
       "<div>\n",
       "<style scoped>\n",
       "    .dataframe tbody tr th:only-of-type {\n",
       "        vertical-align: middle;\n",
       "    }\n",
       "\n",
       "    .dataframe tbody tr th {\n",
       "        vertical-align: top;\n",
       "    }\n",
       "\n",
       "    .dataframe thead th {\n",
       "        text-align: right;\n",
       "    }\n",
       "</style>\n",
       "<table border=\"1\" class=\"dataframe\">\n",
       "  <thead>\n",
       "    <tr style=\"text-align: right;\">\n",
       "      <th></th>\n",
       "      <th>cat1</th>\n",
       "      <th>cat2</th>\n",
       "      <th>cat3</th>\n",
       "      <th>cat4</th>\n",
       "      <th>cat5</th>\n",
       "      <th>cat6</th>\n",
       "      <th>cat7</th>\n",
       "      <th>cat8</th>\n",
       "      <th>cat9</th>\n",
       "      <th>cat10</th>\n",
       "      <th>...</th>\n",
       "      <th>cont6</th>\n",
       "      <th>cont7</th>\n",
       "      <th>cont8</th>\n",
       "      <th>cont9</th>\n",
       "      <th>cont10</th>\n",
       "      <th>cont11</th>\n",
       "      <th>cont12</th>\n",
       "      <th>cont13</th>\n",
       "      <th>cont14</th>\n",
       "      <th>loss</th>\n",
       "    </tr>\n",
       "  </thead>\n",
       "  <tbody>\n",
       "    <tr>\n",
       "      <th>0</th>\n",
       "      <td>A</td>\n",
       "      <td>A</td>\n",
       "      <td>A</td>\n",
       "      <td>A</td>\n",
       "      <td>B</td>\n",
       "      <td>A</td>\n",
       "      <td>A</td>\n",
       "      <td>A</td>\n",
       "      <td>A</td>\n",
       "      <td>A</td>\n",
       "      <td>...</td>\n",
       "      <td>0.490651</td>\n",
       "      <td>0.992293</td>\n",
       "      <td>0.33372</td>\n",
       "      <td>0.42289</td>\n",
       "      <td>0.60401</td>\n",
       "      <td>0.797841</td>\n",
       "      <td>0.785706</td>\n",
       "      <td>0.189489</td>\n",
       "      <td>0.798932</td>\n",
       "      <td>1496.42</td>\n",
       "    </tr>\n",
       "    <tr>\n",
       "      <th>1</th>\n",
       "      <td>A</td>\n",
       "      <td>B</td>\n",
       "      <td>A</td>\n",
       "      <td>B</td>\n",
       "      <td>A</td>\n",
       "      <td>A</td>\n",
       "      <td>A</td>\n",
       "      <td>A</td>\n",
       "      <td>B</td>\n",
       "      <td>A</td>\n",
       "      <td>...</td>\n",
       "      <td>0.186254</td>\n",
       "      <td>0.317274</td>\n",
       "      <td>0.27797</td>\n",
       "      <td>0.32128</td>\n",
       "      <td>0.24355</td>\n",
       "      <td>0.180456</td>\n",
       "      <td>0.178698</td>\n",
       "      <td>0.304350</td>\n",
       "      <td>0.383475</td>\n",
       "      <td>3631.23</td>\n",
       "    </tr>\n",
       "    <tr>\n",
       "      <th>2</th>\n",
       "      <td>A</td>\n",
       "      <td>B</td>\n",
       "      <td>A</td>\n",
       "      <td>B</td>\n",
       "      <td>A</td>\n",
       "      <td>A</td>\n",
       "      <td>A</td>\n",
       "      <td>A</td>\n",
       "      <td>B</td>\n",
       "      <td>A</td>\n",
       "      <td>...</td>\n",
       "      <td>0.367193</td>\n",
       "      <td>0.266569</td>\n",
       "      <td>0.60087</td>\n",
       "      <td>0.58529</td>\n",
       "      <td>0.20496</td>\n",
       "      <td>0.254180</td>\n",
       "      <td>0.250169</td>\n",
       "      <td>0.509999</td>\n",
       "      <td>0.740503</td>\n",
       "      <td>1599.79</td>\n",
       "    </tr>\n",
       "    <tr>\n",
       "      <th>3</th>\n",
       "      <td>A</td>\n",
       "      <td>B</td>\n",
       "      <td>A</td>\n",
       "      <td>A</td>\n",
       "      <td>A</td>\n",
       "      <td>A</td>\n",
       "      <td>A</td>\n",
       "      <td>A</td>\n",
       "      <td>B</td>\n",
       "      <td>B</td>\n",
       "      <td>...</td>\n",
       "      <td>0.350956</td>\n",
       "      <td>0.363768</td>\n",
       "      <td>0.58354</td>\n",
       "      <td>0.44352</td>\n",
       "      <td>0.39599</td>\n",
       "      <td>0.341813</td>\n",
       "      <td>0.352251</td>\n",
       "      <td>0.339244</td>\n",
       "      <td>0.236627</td>\n",
       "      <td>9270.33</td>\n",
       "    </tr>\n",
       "    <tr>\n",
       "      <th>4</th>\n",
       "      <td>A</td>\n",
       "      <td>B</td>\n",
       "      <td>A</td>\n",
       "      <td>A</td>\n",
       "      <td>A</td>\n",
       "      <td>A</td>\n",
       "      <td>A</td>\n",
       "      <td>A</td>\n",
       "      <td>A</td>\n",
       "      <td>A</td>\n",
       "      <td>...</td>\n",
       "      <td>0.763644</td>\n",
       "      <td>0.646277</td>\n",
       "      <td>0.25918</td>\n",
       "      <td>0.49790</td>\n",
       "      <td>0.61459</td>\n",
       "      <td>0.614915</td>\n",
       "      <td>0.601984</td>\n",
       "      <td>0.808455</td>\n",
       "      <td>0.221004</td>\n",
       "      <td>2790.16</td>\n",
       "    </tr>\n",
       "  </tbody>\n",
       "</table>\n",
       "<p>5 rows × 131 columns</p>\n",
       "</div>"
      ],
      "text/plain": [
       "  cat1 cat2 cat3 cat4 cat5 cat6 cat7 cat8 cat9 cat10   ...        cont6  \\\n",
       "0    A    A    A    A    B    A    A    A    A     A   ...     0.490651   \n",
       "1    A    B    A    B    A    A    A    A    B     A   ...     0.186254   \n",
       "2    A    B    A    B    A    A    A    A    B     A   ...     0.367193   \n",
       "3    A    B    A    A    A    A    A    A    B     B   ...     0.350956   \n",
       "4    A    B    A    A    A    A    A    A    A     A   ...     0.763644   \n",
       "\n",
       "      cont7    cont8    cont9   cont10    cont11    cont12    cont13  \\\n",
       "0  0.992293  0.33372  0.42289  0.60401  0.797841  0.785706  0.189489   \n",
       "1  0.317274  0.27797  0.32128  0.24355  0.180456  0.178698  0.304350   \n",
       "2  0.266569  0.60087  0.58529  0.20496  0.254180  0.250169  0.509999   \n",
       "3  0.363768  0.58354  0.44352  0.39599  0.341813  0.352251  0.339244   \n",
       "4  0.646277  0.25918  0.49790  0.61459  0.614915  0.601984  0.808455   \n",
       "\n",
       "     cont14     loss  \n",
       "0  0.798932  1496.42  \n",
       "1  0.383475  3631.23  \n",
       "2  0.740503  1599.79  \n",
       "3  0.236627  9270.33  \n",
       "4  0.221004  2790.16  \n",
       "\n",
       "[5 rows x 131 columns]"
      ]
     },
     "execution_count": 2,
     "metadata": {},
     "output_type": "execute_result"
    }
   ],
   "source": [
    "print(all_state.shape)\n",
    "#show distribution of lost \n",
    "plt.hist(all_state['loss'])\n",
    "plt.show()\n",
    "#distribution is right skewwed, not normal\n",
    "#does not matter with naive bayes\n",
    "all_state.dtypes\n",
    "#only cat1 through cat116 are type object\n",
    "#drop unamed:0 and id\n",
    "all_state = all_state.drop(['Unnamed: 0','id'],axis=1)\n",
    "all_state.head()\n"
   ]
  },
  {
   "cell_type": "code",
   "execution_count": 3,
   "metadata": {},
   "outputs": [],
   "source": [
    "all_state.iloc[:,115]\n",
    "#create range from 0 to 115 for chosing categorial variables\n",
    "#how should you bin the responses though..?\n",
    "#im going to start with a binary classifier first\n",
    "#make function to bin, might need this later\n",
    "def bin_loss_all_state(df,col_to_cut,col_name,ranges,labels):\n",
    "    df[col_name] = pd.cut(df[col_to_cut],ranges,labels = labels)\n",
    "    response = df[col_name]\n",
    "    return(response) "
   ]
  },
  {
   "cell_type": "code",
   "execution_count": 4,
   "metadata": {},
   "outputs": [
    {
     "data": {
      "text/html": [
       "<div>\n",
       "<style scoped>\n",
       "    .dataframe tbody tr th:only-of-type {\n",
       "        vertical-align: middle;\n",
       "    }\n",
       "\n",
       "    .dataframe tbody tr th {\n",
       "        vertical-align: top;\n",
       "    }\n",
       "\n",
       "    .dataframe thead th {\n",
       "        text-align: right;\n",
       "    }\n",
       "</style>\n",
       "<table border=\"1\" class=\"dataframe\">\n",
       "  <thead>\n",
       "    <tr style=\"text-align: right;\">\n",
       "      <th></th>\n",
       "      <th>cat1</th>\n",
       "      <th>cat2</th>\n",
       "      <th>cat3</th>\n",
       "      <th>cat4</th>\n",
       "      <th>cat5</th>\n",
       "      <th>cat6</th>\n",
       "      <th>cat7</th>\n",
       "      <th>cat8</th>\n",
       "      <th>cat9</th>\n",
       "      <th>cat10</th>\n",
       "      <th>...</th>\n",
       "      <th>cont7</th>\n",
       "      <th>cont8</th>\n",
       "      <th>cont9</th>\n",
       "      <th>cont10</th>\n",
       "      <th>cont11</th>\n",
       "      <th>cont12</th>\n",
       "      <th>cont13</th>\n",
       "      <th>cont14</th>\n",
       "      <th>loss</th>\n",
       "      <th>BinLoss1</th>\n",
       "    </tr>\n",
       "  </thead>\n",
       "  <tbody>\n",
       "    <tr>\n",
       "      <th>0</th>\n",
       "      <td>A</td>\n",
       "      <td>A</td>\n",
       "      <td>A</td>\n",
       "      <td>A</td>\n",
       "      <td>B</td>\n",
       "      <td>A</td>\n",
       "      <td>A</td>\n",
       "      <td>A</td>\n",
       "      <td>A</td>\n",
       "      <td>A</td>\n",
       "      <td>...</td>\n",
       "      <td>0.992293</td>\n",
       "      <td>0.33372</td>\n",
       "      <td>0.42289</td>\n",
       "      <td>0.60401</td>\n",
       "      <td>0.797841</td>\n",
       "      <td>0.785706</td>\n",
       "      <td>0.189489</td>\n",
       "      <td>0.798932</td>\n",
       "      <td>1496.42</td>\n",
       "      <td>Low</td>\n",
       "    </tr>\n",
       "    <tr>\n",
       "      <th>1</th>\n",
       "      <td>A</td>\n",
       "      <td>B</td>\n",
       "      <td>A</td>\n",
       "      <td>B</td>\n",
       "      <td>A</td>\n",
       "      <td>A</td>\n",
       "      <td>A</td>\n",
       "      <td>A</td>\n",
       "      <td>B</td>\n",
       "      <td>A</td>\n",
       "      <td>...</td>\n",
       "      <td>0.317274</td>\n",
       "      <td>0.27797</td>\n",
       "      <td>0.32128</td>\n",
       "      <td>0.24355</td>\n",
       "      <td>0.180456</td>\n",
       "      <td>0.178698</td>\n",
       "      <td>0.304350</td>\n",
       "      <td>0.383475</td>\n",
       "      <td>3631.23</td>\n",
       "      <td>High</td>\n",
       "    </tr>\n",
       "    <tr>\n",
       "      <th>2</th>\n",
       "      <td>A</td>\n",
       "      <td>B</td>\n",
       "      <td>A</td>\n",
       "      <td>B</td>\n",
       "      <td>A</td>\n",
       "      <td>A</td>\n",
       "      <td>A</td>\n",
       "      <td>A</td>\n",
       "      <td>B</td>\n",
       "      <td>A</td>\n",
       "      <td>...</td>\n",
       "      <td>0.266569</td>\n",
       "      <td>0.60087</td>\n",
       "      <td>0.58529</td>\n",
       "      <td>0.20496</td>\n",
       "      <td>0.254180</td>\n",
       "      <td>0.250169</td>\n",
       "      <td>0.509999</td>\n",
       "      <td>0.740503</td>\n",
       "      <td>1599.79</td>\n",
       "      <td>Low</td>\n",
       "    </tr>\n",
       "    <tr>\n",
       "      <th>3</th>\n",
       "      <td>A</td>\n",
       "      <td>B</td>\n",
       "      <td>A</td>\n",
       "      <td>A</td>\n",
       "      <td>A</td>\n",
       "      <td>A</td>\n",
       "      <td>A</td>\n",
       "      <td>A</td>\n",
       "      <td>B</td>\n",
       "      <td>B</td>\n",
       "      <td>...</td>\n",
       "      <td>0.363768</td>\n",
       "      <td>0.58354</td>\n",
       "      <td>0.44352</td>\n",
       "      <td>0.39599</td>\n",
       "      <td>0.341813</td>\n",
       "      <td>0.352251</td>\n",
       "      <td>0.339244</td>\n",
       "      <td>0.236627</td>\n",
       "      <td>9270.33</td>\n",
       "      <td>High</td>\n",
       "    </tr>\n",
       "    <tr>\n",
       "      <th>4</th>\n",
       "      <td>A</td>\n",
       "      <td>B</td>\n",
       "      <td>A</td>\n",
       "      <td>A</td>\n",
       "      <td>A</td>\n",
       "      <td>A</td>\n",
       "      <td>A</td>\n",
       "      <td>A</td>\n",
       "      <td>A</td>\n",
       "      <td>A</td>\n",
       "      <td>...</td>\n",
       "      <td>0.646277</td>\n",
       "      <td>0.25918</td>\n",
       "      <td>0.49790</td>\n",
       "      <td>0.61459</td>\n",
       "      <td>0.614915</td>\n",
       "      <td>0.601984</td>\n",
       "      <td>0.808455</td>\n",
       "      <td>0.221004</td>\n",
       "      <td>2790.16</td>\n",
       "      <td>High</td>\n",
       "    </tr>\n",
       "  </tbody>\n",
       "</table>\n",
       "<p>5 rows × 132 columns</p>\n",
       "</div>"
      ],
      "text/plain": [
       "  cat1 cat2 cat3 cat4 cat5 cat6 cat7 cat8 cat9 cat10   ...        cont7  \\\n",
       "0    A    A    A    A    B    A    A    A    A     A   ...     0.992293   \n",
       "1    A    B    A    B    A    A    A    A    B     A   ...     0.317274   \n",
       "2    A    B    A    B    A    A    A    A    B     A   ...     0.266569   \n",
       "3    A    B    A    A    A    A    A    A    B     B   ...     0.363768   \n",
       "4    A    B    A    A    A    A    A    A    A     A   ...     0.646277   \n",
       "\n",
       "     cont8    cont9   cont10    cont11    cont12    cont13    cont14     loss  \\\n",
       "0  0.33372  0.42289  0.60401  0.797841  0.785706  0.189489  0.798932  1496.42   \n",
       "1  0.27797  0.32128  0.24355  0.180456  0.178698  0.304350  0.383475  3631.23   \n",
       "2  0.60087  0.58529  0.20496  0.254180  0.250169  0.509999  0.740503  1599.79   \n",
       "3  0.58354  0.44352  0.39599  0.341813  0.352251  0.339244  0.236627  9270.33   \n",
       "4  0.25918  0.49790  0.61459  0.614915  0.601984  0.808455  0.221004  2790.16   \n",
       "\n",
       "  BinLoss1  \n",
       "0      Low  \n",
       "1     High  \n",
       "2      Low  \n",
       "3     High  \n",
       "4     High  \n",
       "\n",
       "[5 rows x 132 columns]"
      ]
     },
     "execution_count": 4,
     "metadata": {},
     "output_type": "execute_result"
    }
   ],
   "source": [
    "#create a binary response to test\n",
    "all_state[\"BinLoss1\"] = pd.cut(all_state['loss'], [0,2000,100000], labels = [\"Low\", \"High\"])\n",
    "all_state.head()"
   ]
  },
  {
   "cell_type": "code",
   "execution_count": 5,
   "metadata": {},
   "outputs": [
    {
     "data": {
      "text/plain": [
       "Low     6724\n",
       "High    3633\n",
       "Name: BinLogLoss, dtype: int64"
      ]
     },
     "execution_count": 5,
     "metadata": {},
     "output_type": "execute_result"
    }
   ],
   "source": [
    "#try taking the log off loss and see what happens too\n",
    "all_state['log_loss'] = np.log(all_state['loss'])\n",
    "all_state['log_loss'].describe()\n",
    "#try binning log_loss\n",
    "all_state[\"BinLogLoss\"] = pd.cut(all_state['log_loss'], [0,8,10.6], labels = [\"Low\", \"High\"])\n",
    "all_state['BinLogLoss'].value_counts()"
   ]
  },
  {
   "cell_type": "code",
   "execution_count": 6,
   "metadata": {},
   "outputs": [
    {
     "data": {
      "text/html": [
       "<div>\n",
       "<style scoped>\n",
       "    .dataframe tbody tr th:only-of-type {\n",
       "        vertical-align: middle;\n",
       "    }\n",
       "\n",
       "    .dataframe tbody tr th {\n",
       "        vertical-align: top;\n",
       "    }\n",
       "\n",
       "    .dataframe thead th {\n",
       "        text-align: right;\n",
       "    }\n",
       "</style>\n",
       "<table border=\"1\" class=\"dataframe\">\n",
       "  <thead>\n",
       "    <tr style=\"text-align: right;\">\n",
       "      <th></th>\n",
       "      <th>Unnamed: 0</th>\n",
       "      <th>iteration_number</th>\n",
       "      <th>num_variables</th>\n",
       "      <th>selection_variables</th>\n",
       "      <th>upper_bound_low_cat</th>\n",
       "      <th>accuracy_scores</th>\n",
       "      <th>misclass_scores</th>\n",
       "    </tr>\n",
       "  </thead>\n",
       "  <tbody>\n",
       "    <tr>\n",
       "      <th>0</th>\n",
       "      <td>0</td>\n",
       "      <td>0</td>\n",
       "      <td>5</td>\n",
       "      <td>[13, 28, 20, 11, 17]</td>\n",
       "      <td>6.2</td>\n",
       "      <td>0.977117</td>\n",
       "      <td>0.022883</td>\n",
       "    </tr>\n",
       "    <tr>\n",
       "      <th>1</th>\n",
       "      <td>1</td>\n",
       "      <td>0</td>\n",
       "      <td>5</td>\n",
       "      <td>[13, 28, 20, 11, 17]</td>\n",
       "      <td>6.4</td>\n",
       "      <td>0.951917</td>\n",
       "      <td>0.048083</td>\n",
       "    </tr>\n",
       "    <tr>\n",
       "      <th>2</th>\n",
       "      <td>2</td>\n",
       "      <td>0</td>\n",
       "      <td>5</td>\n",
       "      <td>[13, 28, 20, 11, 17]</td>\n",
       "      <td>6.6</td>\n",
       "      <td>0.909530</td>\n",
       "      <td>0.090470</td>\n",
       "    </tr>\n",
       "    <tr>\n",
       "      <th>3</th>\n",
       "      <td>3</td>\n",
       "      <td>0</td>\n",
       "      <td>5</td>\n",
       "      <td>[13, 28, 20, 11, 17]</td>\n",
       "      <td>6.8</td>\n",
       "      <td>0.855267</td>\n",
       "      <td>0.144733</td>\n",
       "    </tr>\n",
       "    <tr>\n",
       "      <th>4</th>\n",
       "      <td>4</td>\n",
       "      <td>0</td>\n",
       "      <td>5</td>\n",
       "      <td>[13, 28, 20, 11, 17]</td>\n",
       "      <td>7.0</td>\n",
       "      <td>0.784107</td>\n",
       "      <td>0.215893</td>\n",
       "    </tr>\n",
       "  </tbody>\n",
       "</table>\n",
       "</div>"
      ],
      "text/plain": [
       "   Unnamed: 0  iteration_number  num_variables   selection_variables  \\\n",
       "0           0                 0              5  [13, 28, 20, 11, 17]   \n",
       "1           1                 0              5  [13, 28, 20, 11, 17]   \n",
       "2           2                 0              5  [13, 28, 20, 11, 17]   \n",
       "3           3                 0              5  [13, 28, 20, 11, 17]   \n",
       "4           4                 0              5  [13, 28, 20, 11, 17]   \n",
       "\n",
       "   upper_bound_low_cat  accuracy_scores  misclass_scores  \n",
       "0                  6.2         0.977117         0.022883  \n",
       "1                  6.4         0.951917         0.048083  \n",
       "2                  6.6         0.909530         0.090470  \n",
       "3                  6.8         0.855267         0.144733  \n",
       "4                  7.0         0.784107         0.215893  "
      ]
     },
     "execution_count": 6,
     "metadata": {},
     "output_type": "execute_result"
    }
   ],
   "source": [
    "all_state_models = pd.read_csv(\"all_state_models_NB.csv\")\n",
    "all_state_models.head()"
   ]
  },
  {
   "cell_type": "code",
   "execution_count": 7,
   "metadata": {},
   "outputs": [
    {
     "data": {
      "text/plain": [
       "Low     5896\n",
       "High    4461\n",
       "Name: BinLogLoss, dtype: int64"
      ]
     },
     "execution_count": 7,
     "metadata": {},
     "output_type": "execute_result"
    }
   ],
   "source": [
    "#get distributions for logloss at 7.8\n",
    "#try taking the log off loss and see what happens too\n",
    "all_state['log_loss'] = np.log(all_state['loss'])\n",
    "all_state['log_loss'].describe()\n",
    "#try binning log_loss\n",
    "all_state[\"BinLogLoss\"] = pd.cut(all_state['log_loss'], [0,7.8,10.6], labels = [\"Low\", \"High\"])\n",
    "all_state['BinLogLoss'].value_counts()\n",
    "#low bin log loss will 7.8"
   ]
  },
  {
   "cell_type": "code",
   "execution_count": 8,
   "metadata": {},
   "outputs": [],
   "source": [
    "#for naive bayes, already said 30 vars and cut off for logloss low at 7.8 \n",
    "low_interval = [0,7.8,12]\n",
    "#create new binned response\n",
    "response_1 = bin_loss_all_state(all_state,'log_loss','BinLogLoss',low_interval,[\"Low\", \"High\"])\n",
    "accuracy_30_values = []\n",
    "misclass_30_values = []\n",
    "selection_variables =[]\n",
    "for i in range(1,500):\n",
    "    #get random sample of 30 predictors\n",
    "    selection = list(np.random.choice(range(1,116),size=30,replace=False))\n",
    "    selection_variables.append(selection)\n",
    "    #get the design matrix \n",
    "    X = all_state.iloc[:,selection]\n",
    "    #encode the cateogorival variables\n",
    "    encoder = preprocessing.OneHotEncoder()\n",
    "    encoder.fit(X)\n",
    "    X_encoded = encoder.transform(X) ##this is not an array yet\n",
    "    #fit the classifier\n",
    "    clf = MultinomialNB()\n",
    "    clf.fit(X_encoded.toarray(),response_1)\n",
    "    #predict and get accuracy\n",
    "    predictions = clf.predict(X_encoded.toarray())\n",
    "    #get accuracy rate\n",
    "    accuracy_30 = np.mean(predictions == response_1)\n",
    "    misclass_30 = np.mean(predictions != response_1)\n",
    "    #add to list\n",
    "    accuracy_30_values.append(accuracy_30)\n",
    "    misclass_30_values.append(misclass_30_values)\n",
    "plt.hist(accuracy_30_values)\n",
    "plt.show()"
   ]
  },
  {
   "cell_type": "code",
   "execution_count": 10,
   "metadata": {},
   "outputs": [
    {
     "name": "stdout",
     "output_type": "stream",
     "text": [
      "[0.750965250965251, 0.7171814671814671, 0.7393822393822393, 0.7335907335907336, 0.747104247104247, 0.7393822393822393, 0.7480694980694981, 0.7410628019323672, 0.7613526570048309, 0.7623188405797101]\n",
      "0.7440409975192583\n"
     ]
    }
   ],
   "source": [
    "#identifiy selection of features that give the highest accuracy, given the reponse\n",
    "optimized_features = selection_variables[np.argmax(accuracy_30_values)]\n",
    "#allocate matrices\n",
    "encoder = preprocessing.OneHotEncoder()\n",
    "encoder.fit(all_state.iloc[:,optimized_features])\n",
    "X_optimized_encoded = encoder.transform(all_state.iloc[:,optimized_features]) #this is not an array yet\n",
    "#cast X_optimized_encoded as array\n",
    "X = X_optimized_encoded.toarray()\n",
    "y = response_1\n",
    "#begin CV\n",
    "cv = KFold(n_splits=10, random_state=45, shuffle=False)\n",
    "cv_accuracy_scores = []\n",
    "cv_misclass_scores = []\n",
    "for train_index, test_index in cv.split(X):\n",
    "    #assign training and testing matrices\n",
    "    X_train, X_test, y_train, y_test = X[train_index], X[test_index], y.iloc[train_index], y.iloc[test_index]\n",
    "    #fit the classifier\n",
    "    clf = MultinomialNB()\n",
    "    clf.fit(X_train,y_train)\n",
    "    #predict and get accuracy\n",
    "    cv_predictions = clf.predict(X_test)\n",
    "    #get accuracy rate\n",
    "    cv_accuracy_38 = np.mean(cv_predictions == y_test)\n",
    "    cv_misclass_38 = np.mean(cv_predictions != y_test)\n",
    "    #add\n",
    "    cv_accuracy_scores.append(cv_accuracy_38)\n",
    "    cv_misclass_scores.append(cv_misclass_38)\n",
    "print(cv_accuracy_scores)\n",
    "print(np.mean(cv_accuracy_scores))"
   ]
  },
  {
   "cell_type": "code",
   "execution_count": 17,
   "metadata": {},
   "outputs": [
    {
     "data": {
      "text/plain": [
       "0.7529207299411026"
      ]
     },
     "execution_count": 17,
     "metadata": {},
     "output_type": "execute_result"
    }
   ],
   "source": [
    "#using optimized features get predictions, remember this is from the whole set\n",
    "clf_NB = MultinomialNB()\n",
    "clf_NB.fit(X,y)\n",
    "predictions_NB = clf_NB.predict(X)\n",
    "accuracy_score(predictions_NB,y)"
   ]
  },
  {
   "cell_type": "code",
   "execution_count": 20,
   "metadata": {},
   "outputs": [
    {
     "data": {
      "text/html": [
       "<div>\n",
       "<style scoped>\n",
       "    .dataframe tbody tr th:only-of-type {\n",
       "        vertical-align: middle;\n",
       "    }\n",
       "\n",
       "    .dataframe tbody tr th {\n",
       "        vertical-align: top;\n",
       "    }\n",
       "\n",
       "    .dataframe thead th {\n",
       "        text-align: right;\n",
       "    }\n",
       "</style>\n",
       "<table border=\"1\" class=\"dataframe\">\n",
       "  <thead>\n",
       "    <tr style=\"text-align: right;\">\n",
       "      <th></th>\n",
       "      <th>Unnamed: 0</th>\n",
       "      <th>num_variables</th>\n",
       "      <th>selected_variables</th>\n",
       "      <th>model_number</th>\n",
       "      <th>num_neighbors</th>\n",
       "      <th>accuracy_knn</th>\n",
       "    </tr>\n",
       "  </thead>\n",
       "  <tbody>\n",
       "    <tr>\n",
       "      <th>0</th>\n",
       "      <td>0</td>\n",
       "      <td>1</td>\n",
       "      <td>[13]</td>\n",
       "      <td>1</td>\n",
       "      <td>2</td>\n",
       "      <td>0.709182</td>\n",
       "    </tr>\n",
       "    <tr>\n",
       "      <th>1</th>\n",
       "      <td>1</td>\n",
       "      <td>1</td>\n",
       "      <td>[8]</td>\n",
       "      <td>1</td>\n",
       "      <td>3</td>\n",
       "      <td>0.556918</td>\n",
       "    </tr>\n",
       "    <tr>\n",
       "      <th>2</th>\n",
       "      <td>2</td>\n",
       "      <td>1</td>\n",
       "      <td>[4]</td>\n",
       "      <td>1</td>\n",
       "      <td>4</td>\n",
       "      <td>0.499372</td>\n",
       "    </tr>\n",
       "    <tr>\n",
       "      <th>3</th>\n",
       "      <td>3</td>\n",
       "      <td>1</td>\n",
       "      <td>[5]</td>\n",
       "      <td>1</td>\n",
       "      <td>5</td>\n",
       "      <td>0.605291</td>\n",
       "    </tr>\n",
       "    <tr>\n",
       "      <th>4</th>\n",
       "      <td>4</td>\n",
       "      <td>1</td>\n",
       "      <td>[9]</td>\n",
       "      <td>2</td>\n",
       "      <td>2</td>\n",
       "      <td>0.475910</td>\n",
       "    </tr>\n",
       "  </tbody>\n",
       "</table>\n",
       "</div>"
      ],
      "text/plain": [
       "   Unnamed: 0  num_variables selected_variables  model_number  num_neighbors  \\\n",
       "0           0              1               [13]             1              2   \n",
       "1           1              1                [8]             1              3   \n",
       "2           2              1                [4]             1              4   \n",
       "3           3              1                [5]             1              5   \n",
       "4           4              1                [9]             2              2   \n",
       "\n",
       "   accuracy_knn  \n",
       "0      0.709182  \n",
       "1      0.556918  \n",
       "2      0.499372  \n",
       "3      0.605291  \n",
       "4      0.475910  "
      ]
     },
     "execution_count": 20,
     "metadata": {},
     "output_type": "execute_result"
    }
   ],
   "source": [
    "#now knn\n",
    "#use continuous features from all state\n",
    "all_state.head()\n",
    "cont_variables = [vars for vars in all_state.columns if 'cont' in vars]\n",
    "cont_variables\n",
    "#lets try a first stab at knn using all 14\n",
    "#but first we need to standardize the cont variables\n",
    "all_state_cont = all_state[cont_variables]\n",
    "scaler = StandardScaler()  \n",
    "scaler.fit(all_state_cont)\n",
    "all_state_cont_scaled = scaler.transform(all_state_cont)\n",
    "#plt.hist(all_state_cont_scaled[:,3])\n",
    "#plt.show()\n",
    "all_state_models_knn = pd.read_csv(\"all_state_models_knn.csv\")\n",
    "all_state_models_knn.head()\n",
    "#we already said 3 neighbors and 5 of the continuous variables\n"
   ]
  },
  {
   "cell_type": "code",
   "execution_count": 21,
   "metadata": {},
   "outputs": [
    {
     "name": "stdout",
     "output_type": "stream",
     "text": [
      "0.7045476489330887\n"
     ]
    }
   ],
   "source": [
    "#write knn function that takes in design matrix and response, the num neighbors and the\n",
    "#minkowski distance parameter and returns accuracy\n",
    "def knn(X,y,n,p):\n",
    "    #fit the classifier\n",
    "    classifier = KNeighborsClassifier(n_neighbors=n, weights = 'uniform', algorithm = 'kd_tree',p=p)  \n",
    "    classifier.fit(X, y)\n",
    "    y_pred = classifier.predict(X)\n",
    "    return(accuracy_score(y_pred,y))\n",
    "#test function\n",
    "print(knn(all_state_cont_scaled,response_1,5,3))\n",
    "#function works"
   ]
  },
  {
   "cell_type": "code",
   "execution_count": 31,
   "metadata": {},
   "outputs": [
    {
     "name": "stdout",
     "output_type": "stream",
     "text": [
      "0 Mon Sep 16 23:53:34 2019\n",
      "50 Mon Sep 16 23:53:53 2019\n",
      "100 Mon Sep 16 23:54:13 2019\n",
      "150 Mon Sep 16 23:54:32 2019\n",
      "200 Mon Sep 16 23:54:51 2019\n",
      "250 Mon Sep 16 23:55:12 2019\n",
      "300 Mon Sep 16 23:55:33 2019\n",
      "350 Mon Sep 16 23:55:54 2019\n",
      "400 Mon Sep 16 23:56:16 2019\n",
      "450 Mon Sep 16 23:56:38 2019\n",
      "500 Mon Sep 16 23:56:58 2019\n",
      "550 Mon Sep 16 23:57:18 2019\n",
      "600 Mon Sep 16 23:57:37 2019\n",
      "650 Mon Sep 16 23:57:57 2019\n"
     ]
    }
   ],
   "source": [
    "#lets estimate the distribution of all 5 feature knn models with num neighbors equal to 3, do 1000 times\n",
    "#can alter to try 14\n",
    "accuracy_knn_5cont_3neigh = []\n",
    "variables = []\n",
    "for i in range(0,700):\n",
    "    if i%50 == 0:\n",
    "        print(i,time.ctime())\n",
    "    #store random seletion of variables\n",
    "    selection = np.random.choice(range(0,all_state_cont_scaled.shape[1]),size=14,replace=False)\n",
    "    #get variables from standard\n",
    "    X = all_state_cont_scaled[:,selection]\n",
    "    y = response_1\n",
    "    #get accuracy, use squared distance\n",
    "    accuracy = knn(X,y,3,2)\n",
    "    #store values\n",
    "    accuracy_knn_5cont_3neigh.append(accuracy)\n",
    "    variables.append(selection)"
   ]
  },
  {
   "cell_type": "code",
   "execution_count": 32,
   "metadata": {},
   "outputs": [
    {
     "data": {
      "image/png": "[encoded data removed]",
      "text/plain": [
       "<Figure size 432x288 with 1 Axes>"
      ]
     },
     "metadata": {
      "needs_background": "light"
     },
     "output_type": "display_data"
    },
    {
     "name": "stdout",
     "output_type": "stream",
     "text": [
      "0.7584242541276431\n"
     ]
    }
   ],
   "source": [
    "plt.hist(accuracy_knn_5cont_3neigh)\n",
    "plt.show()\n",
    "print(np.max(accuracy_knn_5cont_3neigh))"
   ]
  },
  {
   "cell_type": "code",
   "execution_count": 33,
   "metadata": {},
   "outputs": [
    {
     "name": "stdout",
     "output_type": "stream",
     "text": [
      "[0.555019305019305, 0.5144787644787645, 0.525096525096525, 0.5212355212355212, 0.5521235521235521, 0.5598455598455598, 0.5115830115830116, 0.5285024154589372, 0.5285024154589372, 0.5256038647342995]\n",
      "0.5321990935034413\n"
     ]
    }
   ],
   "source": [
    "#cross validatidate with the best model\n",
    "#num features 5, neighbors 3\n",
    "#get best features\n",
    "optimized_features = variables[np.argmax(accuracy_knn_5cont_3neigh)]\n",
    "#allocate matrices\n",
    "X = all_state_cont_scaled[:,optimized_features]\n",
    "y = response_1\n",
    "\n",
    "#begin CV\n",
    "cv = KFold(n_splits=10, random_state=45, shuffle=False)\n",
    "cv_accuracy_scores = []\n",
    "cv_misclass_scores = []\n",
    "for train_index, test_index in cv.split(X):\n",
    "    #assign training and testing matrices\n",
    "    X_train, X_test, y_train, y_test = X[train_index], X[test_index], y.iloc[train_index], y.iloc[test_index]\n",
    "    #fit the classifier\n",
    "    knn_clf_cv = KNeighborsClassifier(n_neighbors=3,p=2)\n",
    "    knn_clf_cv.fit(X_train,y_train)\n",
    "    #predict and get accuracy\n",
    "    cv_predictions = knn_clf_cv.predict(X_test)\n",
    "    #get accuracy rate\n",
    "    cv_accuracy = np.mean(cv_predictions == y_test)\n",
    "    cv_misclass = np.mean(cv_predictions != y_test)\n",
    "    #add\n",
    "    cv_accuracy_scores.append(cv_accuracy)\n",
    "    cv_misclass_scores.append(cv_misclass)\n",
    "    \n",
    "print(cv_accuracy_scores)\n",
    "print(np.mean(cv_accuracy_scores))"
   ]
  },
  {
   "cell_type": "code",
   "execution_count": 50,
   "metadata": {},
   "outputs": [
    {
     "name": "stdout",
     "output_type": "stream",
     "text": [
      "missclassification rate is 26.455537317756107\n"
     ]
    },
    {
     "data": {
      "image/png": "[encoded data removed]",
      "text/plain": [
       "<Figure size 432x288 with 1 Axes>"
      ]
     },
     "metadata": {
      "needs_background": "light"
     },
     "output_type": "display_data"
    }
   ],
   "source": [
    "#genearte ROC curve for naive bayes\n",
    "#identifiy selection of features that give the highest accuracy, given the reponse\n",
    "optimized_features = selection_variables[np.argmax(accuracy_30_values)]\n",
    "#allocate matrices\n",
    "encoder = preprocessing.OneHotEncoder()\n",
    "encoder.fit(all_state.iloc[:,optimized_features])\n",
    "X_optimized_encoded = encoder.transform(all_state.iloc[:,optimized_features]) #this is not an array yet\n",
    "#cast X_optimized_encoded as array\n",
    "X = X_optimized_encoded.toarray()\n",
    "y = response_1\n",
    "#convert y to binary\n",
    "def binarize_y(a):\n",
    "    if a == \"High\":\n",
    "        return(0)\n",
    "    else:\n",
    "        return(1)\n",
    "y_binary = y.apply(binarize_y)\n",
    "#genearte ROC curve for naive bayes\n",
    "#fit the classifier\n",
    "clf = MultinomialNB()\n",
    "clf.fit(X,y_binary)\n",
    "#get predictions, prior is set to 50%\n",
    "print(\"missclassification rate is \"+str((sum(clf.predict(X) != y_binary) / len(y_binary))*100))\n",
    "#Print confusion matrix\n",
    "pd.crosstab(y_binary,clf.predict(X))\n",
    "#generate roc curver for multinomalNB\n",
    "thresholds = np.linspace(0,1,15)\n",
    "fpr_MNB, tpr_MNB, thresholds = roc_curve(y_binary, clf.predict_proba(X)[:,1])\n",
    "plt.plot(fpr_MNB,tpr_MNB)\n",
    "plt.show()"
   ]
  },
  {
   "cell_type": "code",
   "execution_count": 53,
   "metadata": {},
   "outputs": [
    {
     "data": {
      "text/plain": [
       "0.7584242541276431"
      ]
     },
     "execution_count": 53,
     "metadata": {},
     "output_type": "execute_result"
    }
   ],
   "source": [
    "#get predictions from NB\n",
    "predictions_NB\n",
    "#get pridctions from knn\n",
    "knn = KNeighborsClassifier(n_neighbors=3,p=2)\n",
    "knn.fit(all_state_cont_scaled,response_1)\n",
    "knn_predictions = knn.predict(all_state_cont_scaled)\n",
    "accuracy_score(knn_predictions,response_1)\n",
    "\n"
   ]
  },
  {
   "cell_type": "code",
   "execution_count": 61,
   "metadata": {},
   "outputs": [],
   "source": [
    "#binaryize both\n",
    "predictions_NB_bin = pd.Series(predictions_NB).apply(binarize_y)\n",
    "knn_predictions_bin = pd.Series(knn_predictions).apply(binarize_y)\n",
    "actual_y = response_1.apply(binarize_y)"
   ]
  },
  {
   "cell_type": "code",
   "execution_count": 93,
   "metadata": {},
   "outputs": [],
   "source": [
    "#turn to arrays and concatnnate\n",
    "X = np.hstack((predictions_NB_bin.values.reshape((10357,1)),\n",
    "                   knn_predictions_bin.values.reshape((10357,1))))\n",
    "X.shape\n",
    "\n",
    "#the matrix equation now reads vec_y = A*vec_X\n",
    "u, s, vh = np.linalg.svd(X, full_matrices=True)"
   ]
  },
  {
   "cell_type": "code",
   "execution_count": 126,
   "metadata": {},
   "outputs": [
    {
     "name": "stdout",
     "output_type": "stream",
     "text": [
      "The accuracy for knn and multinb is: 0.7529207299411026\n"
     ]
    }
   ],
   "source": [
    "from sklearn.ensemble import VotingClassifier\n",
    "clf1 = KNeighborsClassifier(n_neighbors=2,p=2)\n",
    "clf2 = MultinomialNB()\n",
    "ensemble=VotingClassifier(estimators=[('knn',clf1 ), ('NB', clf2)], \n",
    "                       voting='hard', weights=[1,1]).fit(X,actual_y)\n",
    "print('The accuracy for knn and multinb is:',ensemble.score(X,actual_y))"
   ]
  },
  {
   "cell_type": "code",
   "execution_count": 108,
   "metadata": {},
   "outputs": [
    {
     "data": {
      "text/plain": [
       "array([106.50412221,  42.33050853, 148.83463074, ...,  42.33050853,\n",
       "        42.33050853,  42.33050853])"
      ]
     },
     "execution_count": 108,
     "metadata": {},
     "output_type": "execute_result"
    }
   ],
   "source": [
    "np.matmul(X,s)"
   ]
  },
  {
   "cell_type": "code",
   "execution_count": null,
   "metadata": {},
   "outputs": [],
   "source": []
  }
 ],
 "metadata": {
  "kernelspec": {
   "display_name": "Python 3",
   "language": "python",
   "name": "python3"
  },
  "language_info": {
   "codemirror_mode": {
    "name": "ipython",
    "version": 3
   },
   "file_extension": ".py",
   "mimetype": "text/x-python",
   "name": "python",
   "nbconvert_exporter": "python",
   "pygments_lexer": "ipython3",
   "version": "3.7.1"
  }
 },
 "nbformat": 4,
 "nbformat_minor": 2
}
